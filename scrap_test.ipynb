{
 "cells": [
  {
   "cell_type": "code",
   "execution_count": 3,
   "metadata": {},
   "outputs": [],
   "source": [
    "import requests\n",
    "from bs4 import BeautifulSoup"
   ]
  },
  {
   "cell_type": "markdown",
   "metadata": {},
   "source": [
    "### Test 1"
   ]
  },
  {
   "cell_type": "code",
   "execution_count": 4,
   "metadata": {},
   "outputs": [],
   "source": [
    "page_1 = requests.get('https://business.abidjan.net/annonces-legales/1-avis-de-constitution-de-societe/124485-mister-clean-sarlu-mister-clean')\n",
    "soup_1 = BeautifulSoup(page_1.content, \"html.parser\")"
   ]
  },
  {
   "cell_type": "code",
   "execution_count": 5,
   "metadata": {},
   "outputs": [
    {
     "data": {
      "text/plain": [
       "'AVIS DE CONSTITUTION DE SOCIETE\\xa0Aux termes de la DSV et statuts par actes SSP, enregistrés à Bouaké le 17 juillet 2023, il a été créé une Société à Responsabilité limitée Unipersonnelle (SARLU).\\xa0DENOMINATION : « MISTER CLEAN » SARLU en abrégée (MISTER CLEAN),\\xa0NOM COMMERCIAL : MISTER CLEAN SARLU\\xa0OBJET :La société a pour objet directement ou indirectement en tout pays en général et particulièrement en République de CÔTE D’IVOIRE :- Bâtiment et travaux publics;- Environnement ;- Nettoyage et entretien de toute surface horizontale et ou verticale ;- Ponçage et vitrification de marbres, granites, parquets;- Hygiène publique (la désinsectisation, la dératisation, la désinfection, lutte contre les nuisibles et rongeurs) ;- Création et entretien des espaces verts, pavés et paysages, enlèvement des déchets ;- Climatisation et maintenance ;- Energie ;- Construction, la rénovation et entretien de piscine, jacuzzi ;- Transport et logistique ;- Gestion et transaction immobilière ;- Négociation de contrat et approvisionnement ;- Commerce général;- Import-export ;- Production de produits de savon tous types, javels, entretien et cosmétiques ;- Fourniture ;- Prestation de services.- Et plus généralement, d’effectuer toutes opérations (commerciales, civiles mobilières et/ou immobilières) pouvant se rattacher directement ou indirectement à l’objet de la société ou à des objets connexes ou susceptibles d’en faciliter le développement ou à la réalisation et qui ne remettent pas en cause le caractère de société.\\xa0CAPITAL SOCIAL : 1 000 000 F CFA ;\\xa0DUREE : la durée de la société est de 99 ans, sauf dissolution anticipée ou prorogation ;\\xa0SIEGE SOCIAL: BOUAKE quartier Maroc\\xa0GÉRANT: COULIBALY MAMADOU\\xa0RCCM: Cl-BKE-01-2023-B13-00105 Du 24 juillet 2023 au tribunal de première instance de BOUAKE.\\xa0POUR AVISLE GERANT'"
      ]
     },
     "execution_count": 5,
     "metadata": {},
     "output_type": "execute_result"
    }
   ],
   "source": [
    "div_txt = soup_1.find('div', class_='txt')\n",
    "txt_to_collect = div_txt.get_text().strip()\n",
    "txt_to_collect"
   ]
  },
  {
   "cell_type": "code",
   "execution_count": 6,
   "metadata": {},
   "outputs": [
    {
     "data": {
      "text/plain": [
       "['AVIS DE CONSTITUTION DE SOCIETE',\n",
       " 'Aux termes de la DSV et statuts par actes SSP, enregistrés à Bouaké le 17 juillet 2023, il a été créé une Société à Responsabilité limitée Unipersonnelle (SARLU).',\n",
       " 'DENOMINATION : « MISTER CLEAN » SARLU en abrégée (MISTER CLEAN),',\n",
       " 'NOM COMMERCIAL : MISTER CLEAN SARLU',\n",
       " 'OBJET :La société a pour objet directement ou indirectement en tout pays en général et particulièrement en République de CÔTE D’IVOIRE :- Bâtiment et travaux publics;- Environnement ;- Nettoyage et entretien de toute surface horizontale et ou verticale ;- Ponçage et vitrification de marbres, granites, parquets;- Hygiène publique (la désinsectisation, la dératisation, la désinfection, lutte contre les nuisibles et rongeurs) ;- Création et entretien des espaces verts, pavés et paysages, enlèvement des déchets ;- Climatisation et maintenance ;- Energie ;- Construction, la rénovation et entretien de piscine, jacuzzi ;- Transport et logistique ;- Gestion et transaction immobilière ;- Négociation de contrat et approvisionnement ;- Commerce général;- Import-export ;- Production de produits de savon tous types, javels, entretien et cosmétiques ;- Fourniture ;- Prestation de services.- Et plus généralement, d’effectuer toutes opérations (commerciales, civiles mobilières et/ou immobilières) pouvant se rattacher directement ou indirectement à l’objet de la société ou à des objets connexes ou susceptibles d’en faciliter le développement ou à la réalisation et qui ne remettent pas en cause le caractère de société.',\n",
       " 'CAPITAL SOCIAL : 1 000 000 F CFA ;',\n",
       " 'DUREE : la durée de la société est de 99 ans, sauf dissolution anticipée ou prorogation ;',\n",
       " 'SIEGE SOCIAL: BOUAKE quartier Maroc',\n",
       " 'GÉRANT: COULIBALY MAMADOU',\n",
       " 'RCCM: Cl-BKE-01-2023-B13-00105 Du 24 juillet 2023 au tribunal de première instance de BOUAKE.',\n",
       " 'POUR AVISLE GERANT']"
      ]
     },
     "execution_count": 6,
     "metadata": {},
     "output_type": "execute_result"
    }
   ],
   "source": [
    "txt_to_collect.split(sep=\"\\xa0\")"
   ]
  },
  {
   "cell_type": "markdown",
   "metadata": {},
   "source": [
    "### Test 2"
   ]
  },
  {
   "cell_type": "code",
   "execution_count": 7,
   "metadata": {},
   "outputs": [],
   "source": [
    "page_2 = requests.get('https://business.abidjan.net/annonces-legales/1-avis-de-constitution-de-societe/124523-zenvan-sarl')\n",
    "soup_2 = BeautifulSoup(page_2.content, \"html.parser\")"
   ]
  },
  {
   "cell_type": "code",
   "execution_count": 8,
   "metadata": {},
   "outputs": [
    {
     "data": {
      "text/plain": [
       "['AVIS DE CONSTITUTION',\n",
       " '\\xa0',\n",
       " 'ZENVAN SARL',\n",
       " 'No RCCM : CI-ABJ-03- 2022-B13-10154 DU 02/11/2022',\n",
       " '\\xa0',\n",
       " 'Aux termes des statuts et règlement intérieurs sous seing privé enregistré au Tribunal de Commerce d’Abidjan, il a été constitué une SARLU dont les caractéristiques sont les suivantes :',\n",
       " '\\xa0',\n",
       " 'DÉNOMINATION : ZENVAN SARL',\n",
       " 'SIGLE : ZV SARL',\n",
       " '\\xa0',\n",
       " 'SIÈGE SOCIAL : ABIDJAN COCODY II PLATEAU VALLON',\n",
       " '\\xa0',\n",
       " 'OBJET SOCIAL :',\n",
       " '-IMPORTATION',\n",
       " '-VENTE ET MISE EN LOCATION DE MACHINES DE CONSTRUCTION, ENGINS, EQUIPEMENTS, PIECES DE RECHANGES ET LOGISTIQUE….',\n",
       " '\\xa0',\n",
       " 'DURÉE DE VIE : 99 ANS',\n",
       " '\\xa0',\n",
       " 'GERANT : LI HU',\n",
       " '\\xa0',\n",
       " 'CAPITAL SOCIAL : 10.000.000 F CFA',\n",
       " '\\xa0',\n",
       " 'DEPOT AU BUREAU DE Me KOUASSI KONAN MATHIAS ADMINISTRATEUR DES GREFFES ET PARQUETS',\n",
       " '\\xa0',\n",
       " 'POUR AVIS',\n",
       " 'LE GERANT LI HU']"
      ]
     },
     "execution_count": 8,
     "metadata": {},
     "output_type": "execute_result"
    }
   ],
   "source": [
    "div_txt_2 = soup_2.find('div', class_='txt')\n",
    "div_txt_2_ = soup_2.select('div.txt p')\n",
    "txt_to_collect_2 = div_txt_2.get_text().strip()\n",
    "div_txt_2_ = [txt.text for txt in div_txt_2_]\n",
    "div_txt_2_"
   ]
  },
  {
   "cell_type": "code",
   "execution_count": 9,
   "metadata": {},
   "outputs": [
    {
     "data": {
      "text/plain": [
       "['AVIS DE CONSTITUTION',\n",
       " 'ZENVAN SARLNo RCCM : CI-ABJ-03- 2022-B13-10154 DU 02/11/2022',\n",
       " 'Aux termes des statuts et règlement intérieurs sous seing privé enregistré au Tribunal de Commerce d’Abidjan, il a été constitué une SARLU dont les caractéristiques sont les suivantes :',\n",
       " 'DÉNOMINATION : ZENVAN SARLSIGLE : ZV SARL',\n",
       " 'SIÈGE SOCIAL : ABIDJAN COCODY II PLATEAU VALLON',\n",
       " 'OBJET SOCIAL :-IMPORTATION-VENTE ET MISE EN LOCATION DE MACHINES DE CONSTRUCTION, ENGINS, EQUIPEMENTS, PIECES DE RECHANGES ET LOGISTIQUE….',\n",
       " 'DURÉE DE VIE : 99 ANS',\n",
       " 'GERANT : LI HU',\n",
       " 'CAPITAL SOCIAL : 10.000.000 F CFA',\n",
       " 'DEPOT AU BUREAU DE Me KOUASSI KONAN MATHIAS ADMINISTRATEUR DES GREFFES ET PARQUETS',\n",
       " 'POUR AVISLE GERANT LI HU']"
      ]
     },
     "execution_count": 9,
     "metadata": {},
     "output_type": "execute_result"
    }
   ],
   "source": [
    "txt_to_collect_2.split(sep=\"\\xa0\")"
   ]
  },
  {
   "cell_type": "markdown",
   "metadata": {},
   "source": [
    "### Test 3"
   ]
  },
  {
   "cell_type": "code",
   "execution_count": 10,
   "metadata": {},
   "outputs": [],
   "source": [
    "page_3 = requests.get('https://business.abidjan.net/annonces-legales/1-avis-de-constitution-de-societe/124381-societe-cooperative-des-agriculteurs-minieres-de-djom')\n",
    "soup_3 = BeautifulSoup(page_3.content, \"html.parser\")"
   ]
  },
  {
   "cell_type": "code",
   "execution_count": 49,
   "metadata": {},
   "outputs": [
    {
     "data": {
      "text/plain": [
       "['DECLARATION DE CONSTITUTON DE PERSONNE MORALE CI-BRO-23-B-27',\n",
       " '\\xa0',\n",
       " 'Au terme des statuts soussigné privé déposés au rang des minutes des Greffes et parquets, Maitre KOUETA KOROTOUM, Administrateur des greffes et parquets greffier en chef Adjoint au tribunal de Commerce de Bondoukou, il a été constitué une',\n",
       " 'Déclaration de constitution de personne morale.',\n",
       " '\\xa0',\n",
       " '\\xa0Qui a pour activité principale donc La coopérative a pour objet en républiques de côte d’ivoire et étranger :',\n",
       " 'ACTIVITE(S) EXERCEE(S)',\n",
       " '-PROMOUVOIR L’ACTIVITEAGRICOLE ET MINIERE.',\n",
       " '\\xa0',\n",
       " 'DENOMINATION: SOCIETE COOPERATIVE DES AGRICULTUERS MINIERES DE DJOM',\n",
       " '\\xa0',\n",
       " 'FORME JURIDIQUE:SCOOPSPAMID-SCOOPS',\n",
       " '\\xa0',\n",
       " 'ADRESSE: DJOM',\n",
       " '\\xa0',\n",
       " 'CAPITAL SOCIAL: 2.000.000F CFA',\n",
       " '\\xa0',\n",
       " 'DUREE : 99 ans',\n",
       " '\\xa0',\n",
       " 'PRESIDENT : AMOAKON ZAKARIA',\n",
       " '\\xa0',\n",
       " 'Inscription faite au registre des sociétés tenu au greffe du tribunal de commerce de Bondoukou le 28/07/2023, sous le numéro CI-BKO-23-B-27',\n",
       " '\\xa0',\n",
       " 'POUR AVIS',\n",
       " 'LE PRESIDENT AMOAKON ZAKARIA']"
      ]
     },
     "execution_count": 49,
     "metadata": {},
     "output_type": "execute_result"
    }
   ],
   "source": [
    "div_txt_3 = soup_3.find('div', class_='txt')\n",
    "#\n",
    "txt_to_collect_3 = div_txt_3.get_text().strip()\n",
    "#\n",
    "div_txt_3_ = soup_3.select('div.txt p')\n",
    "div_txt_3_ = [txt.text for txt in div_txt_3_]\n",
    "div_txt_3_"
   ]
  },
  {
   "cell_type": "code",
   "execution_count": 56,
   "metadata": {},
   "outputs": [
    {
     "data": {
      "text/plain": [
       "{'objet': '\\xa0Qui a pour activité principale donc La coopérative a pour objet en républiques de côte d’ivoire et étranger :',\n",
       " 'capital': 'CAPITAL SOCIAL: 2.000.000F CFA',\n",
       " 'duree': 'DUREE : 99 ans'}"
      ]
     },
     "execution_count": 56,
     "metadata": {},
     "output_type": "execute_result"
    }
   ],
   "source": [
    "liste = dict()\n",
    "for element in div_txt_3_:\n",
    "  if 'capital' in element.lower():\n",
    "    liste['capital'] = element\n",
    "  elif 'objet' in element.lower():\n",
    "    liste['objet'] = element\n",
    "  elif 'duree' in element.lower():\n",
    "    liste['duree'] = element\n",
    "\n",
    "liste"
   ]
  },
  {
   "cell_type": "code",
   "execution_count": 12,
   "metadata": {},
   "outputs": [
    {
     "data": {
      "text/plain": [
       "['DECLARATION DE CONSTITUTON DE PERSONNE MORALE CI-BRO-23-B-27',\n",
       " 'Au terme des statuts soussigné privé déposés au rang des minutes des Greffes et parquets, Maitre KOUETA KOROTOUM, Administrateur des greffes et parquets greffier en chef Adjoint au tribunal de Commerce de Bondoukou, il a été constitué uneDéclaration de constitution de personne morale.',\n",
       " '',\n",
       " 'Qui a pour activité principale donc La coopérative a pour objet en républiques de côte d’ivoire et étranger :ACTIVITE(S) EXERCEE(S)-PROMOUVOIR L’ACTIVITEAGRICOLE ET MINIERE.',\n",
       " 'DENOMINATION: SOCIETE COOPERATIVE DES AGRICULTUERS MINIERES DE DJOM',\n",
       " 'FORME JURIDIQUE:SCOOPSPAMID-SCOOPS',\n",
       " 'ADRESSE: DJOM',\n",
       " 'CAPITAL SOCIAL: 2.000.000F CFA',\n",
       " 'DUREE : 99 ans',\n",
       " 'PRESIDENT : AMOAKON ZAKARIA',\n",
       " 'Inscription faite au registre des sociétés tenu au greffe du tribunal de commerce de Bondoukou le 28/07/2023, sous le numéro CI-BKO-23-B-27',\n",
       " 'POUR AVISLE PRESIDENT AMOAKON ZAKARIA']"
      ]
     },
     "execution_count": 12,
     "metadata": {},
     "output_type": "execute_result"
    }
   ],
   "source": [
    "txt_to_collect_3.split(sep=\"\\xa0\")"
   ]
  },
  {
   "cell_type": "markdown",
   "metadata": {},
   "source": [
    "### Test 4"
   ]
  },
  {
   "cell_type": "code",
   "execution_count": 13,
   "metadata": {},
   "outputs": [],
   "source": [
    "page_4 = requests.get('https://business.abidjan.net/annonces-legales/4-autres-categories/124522-supermaritime-ci')\n",
    "soup_4 = BeautifulSoup(page_4.content, \"html.parser\")"
   ]
  },
  {
   "cell_type": "code",
   "execution_count": 17,
   "metadata": {},
   "outputs": [
    {
     "data": {
      "text/plain": [
       "['SUPERMARITIME CISociété à responsabilité limitéeAu capital de 100 000 000 de FCFASiège social : Abidjan 18 BP 3.008R.C.C.M.: CI-ABJ-03- 1997-B12-212597',\n",
       " 'Le Procès-Verbal de la Décision Collective Ordinaire du jeudi 01 juin 2023 a été enregistré à Treichville le 13/06/2023 sous le numéro de quittance 010376 Registre Vol. 02 Folio 91 Bord 1123/04.',\n",
       " 'La collectivité des associés a décidé de renouveler le mandat de M. GUILLEMAIN Alain, 01 BP 154, en qualité de commissaire aux comptes pour les trois prochains exercices, jusqu’à l’assemblée générale appelée à statuer sur les comptes de l’exercice qui sera clos le 31/12/2025.',\n",
       " 'La modification du RCCM du 13/07/2023 a été enregistrée sous le numéro: CI-ABJ-03- 2023-M-29652 au Tribunal du commerce d’Abidjan.']"
      ]
     },
     "execution_count": 17,
     "metadata": {},
     "output_type": "execute_result"
    }
   ],
   "source": [
    "div_txt_4 = soup_4.find('div', class_='txt')\n",
    "txt_to_collect_4 = div_txt_4.text.strip()\n",
    "txt_to_collect_4.split(sep=\"\\xa0\")"
   ]
  },
  {
   "cell_type": "code",
   "execution_count": 24,
   "metadata": {},
   "outputs": [
    {
     "data": {
      "text/plain": [
       "['SUPERMARITIME CI',\n",
       " 'Société à responsabilité limitée',\n",
       " 'Au capital de 100 000 000 de FCFA',\n",
       " 'Siège social : Abidjan 18 BP 3.008',\n",
       " 'R.C.C.M.: CI-ABJ-03- 1997-B12-212597',\n",
       " '\\xa0',\n",
       " 'Le Procès-Verbal de la Décision Collective Ordinaire du jeudi 01 juin 2023 a été enregistré à Treichville le 13/06/2023 sous le numéro de quittance 010376 Registre Vol. 02 Folio 91 Bord 1123/04.',\n",
       " '\\xa0',\n",
       " 'La collectivité des associés a décidé de renouveler le mandat de M. GUILLEMAIN Alain, 01 BP 154, en qualité de commissaire aux comptes pour les trois prochains exercices, jusqu’à l’assemblée générale appelée à statuer sur les comptes de l’exercice qui sera clos le 31/12/2025.',\n",
       " '\\xa0',\n",
       " 'La modification du RCCM du 13/07/2023 a été enregistrée sous le numéro: CI-ABJ-03- 2023-M-29652 au Tribunal du commerce d’Abidjan.',\n",
       " '\\xa0',\n",
       " '\\xa0']"
      ]
     },
     "execution_count": 24,
     "metadata": {},
     "output_type": "execute_result"
    }
   ],
   "source": [
    "div_txt_4_ = soup_4.select('div.txt p')\n",
    "div_txt_4_ = [txt.text for txt in div_txt_4_]\n",
    "div_txt_4_"
   ]
  },
  {
   "cell_type": "code",
   "execution_count": 43,
   "metadata": {},
   "outputs": [
    {
     "data": {
      "text/plain": [
       "[None,\n",
       " None,\n",
       " 'Au capital de 100 000 000 de FCFA',\n",
       " None,\n",
       " None,\n",
       " None,\n",
       " 'Le Procès-Verbal de la Décision Collective Ordinaire du jeudi 01 juin 2023 a été enregistré à Treichville le 13/06/2023 sous le numéro de quittance 010376 Registre Vol. 02 Folio 91 Bord 1123/04.',\n",
       " None,\n",
       " None,\n",
       " None,\n",
       " None,\n",
       " None,\n",
       " None]"
      ]
     },
     "execution_count": 43,
     "metadata": {},
     "output_type": "execute_result"
    }
   ],
   "source": [
    "def find_capital(element):\n",
    "  if 'capital' in element.lower():\n",
    "    return element\n",
    "  elif 'treichville' in element.lower():\n",
    "    return element\n",
    "\n",
    "test = map(find_capital, div_txt_4_)\n",
    "list(test)"
   ]
  }
 ],
 "metadata": {
  "kernelspec": {
   "display_name": "virtualenv",
   "language": "python",
   "name": "python3"
  },
  "language_info": {
   "codemirror_mode": {
    "name": "ipython",
    "version": 3
   },
   "file_extension": ".py",
   "mimetype": "text/x-python",
   "name": "python",
   "nbconvert_exporter": "python",
   "pygments_lexer": "ipython3",
   "version": "3.9.5"
  },
  "orig_nbformat": 4
 },
 "nbformat": 4,
 "nbformat_minor": 2
}

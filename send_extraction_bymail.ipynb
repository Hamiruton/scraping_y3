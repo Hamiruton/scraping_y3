{
 "cells": [
  {
   "cell_type": "code",
   "execution_count": 23,
   "metadata": {},
   "outputs": [],
   "source": [
    "import smtplib\n",
    "from email.mime.multipart import MIMEMultipart\n",
    "from email.mime.text import MIMEText\n",
    "from email.mime.application import MIMEApplication"
   ]
  },
  {
   "cell_type": "code",
   "execution_count": 24,
   "metadata": {},
   "outputs": [],
   "source": [
    "smtp_server = \"smtp.gmail.com\"\n",
    "smtp_port = 587\n",
    "username = \"lewisahoumouan@gmail.com\"\n",
    "# password = \"Kan13822\"\n",
    "password = \"qifenxaprwhffyer\""
   ]
  },
  {
   "cell_type": "code",
   "execution_count": 25,
   "metadata": {},
   "outputs": [],
   "source": [
    "subject = \"Test Extraction\"\n",
    "body = \"C'est un test pour savoir si l'extraction marche correctement. Merci\"\n",
    "recipient = \"Kevin.Tchehimouegnan@ycubeac.com\""
   ]
  },
  {
   "cell_type": "code",
   "execution_count": 26,
   "metadata": {},
   "outputs": [],
   "source": [
    "msg = MIMEMultipart()\n",
    "msg['From'] = username\n",
    "msg['To'] = recipient\n",
    "msg['Subject'] = subject\n",
    "msg.attach(MIMEText(body, 'plain'))"
   ]
  },
  {
   "cell_type": "code",
   "execution_count": 27,
   "metadata": {},
   "outputs": [],
   "source": [
    "file_path = \"/home/akuseru/Y3-project/scraping_project/scraping-api/data-3a777cf4-a149-4aea-9e75-e10c7cbc947b.xlsx\"\n",
    "with open(file_path, 'rb') as file:\n",
    "  part = MIMEApplication(file.read(), Name=\"extraction.xlsx\")\n",
    "  part.add_header('Content-Disposition', 'attachment', filename=\"extraction.xlsx\")\n",
    "  #part['Content-Disposition'] = f'attachment; filename=\"{part[\"Name\"]}\"'\n",
    "  msg.attach(part)"
   ]
  },
  {
   "cell_type": "code",
   "execution_count": 28,
   "metadata": {},
   "outputs": [],
   "source": [
    "with smtplib.SMTP(smtp_server, smtp_port) as server:\n",
    "  server.starttls()\n",
    "  server.login(username, password)\n",
    "  server.sendmail(username, recipient, msg.as_string())"
   ]
  }
 ],
 "metadata": {
  "kernelspec": {
   "display_name": "virtualenv",
   "language": "python",
   "name": "python3"
  },
  "language_info": {
   "codemirror_mode": {
    "name": "ipython",
    "version": 3
   },
   "file_extension": ".py",
   "mimetype": "text/x-python",
   "name": "python",
   "nbconvert_exporter": "python",
   "pygments_lexer": "ipython3",
   "version": "3.9.5"
  },
  "orig_nbformat": 4
 },
 "nbformat": 4,
 "nbformat_minor": 2
}
